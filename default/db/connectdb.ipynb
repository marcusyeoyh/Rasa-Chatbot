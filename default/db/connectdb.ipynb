{
 "cells": [
  {
   "cell_type": "code",
   "execution_count": 14,
   "metadata": {},
   "outputs": [],
   "source": [
    "import sqlite3\n",
    "from prettytable import PrettyTable\n",
    "from fuzzywuzzy import process"
   ]
  },
  {
   "cell_type": "code",
   "execution_count": 1,
   "metadata": {},
   "outputs": [
    {
     "name": "stdout",
     "output_type": "stream",
     "text": [
      "Requirement already satisfied: rasa in c:\\users\\u\\appdata\\local\\programs\\python\\python39\\lib\\site-packages (3.5.6)\n",
      "Requirement already satisfied: pydantic<1.10.3 in c:\\users\\u\\appdata\\local\\programs\\python\\python39\\lib\\site-packages (from rasa) (1.10.2)\n",
      "Requirement already satisfied: typing-utils<0.2.0,>=0.1.0 in c:\\users\\u\\appdata\\local\\programs\\python\\python39\\lib\\site-packages (from rasa) (0.1.0)\n",
      "Requirement already satisfied: webexteamssdk<1.7.0,>=1.1.1 in c:\\users\\u\\appdata\\local\\programs\\python\\python39\\lib\\site-packages (from rasa) (1.6.1)\n",
      "Requirement already satisfied: sanic-jwt<2.0.0,>=1.6.0 in c:\\users\\u\\appdata\\local\\programs\\python\\python39\\lib\\site-packages (from rasa) (1.8.0)\n",
      "Requirement already satisfied: portalocker<3.0.0,>=2.7.0 in c:\\users\\u\\appdata\\local\\programs\\python\\python39\\lib\\site-packages (from rasa) (2.7.0)\n",
      "Requirement already satisfied: jsonschema<4.18,>=3.2 in c:\\users\\u\\appdata\\local\\programs\\python\\python39\\lib\\site-packages (from rasa) (4.17.3)\n",
      "Requirement already satisfied: numpy<1.25.0,>=1.19.2; python_version >= \"3.8\" and python_version < \"3.11\" in c:\\users\\u\\appdata\\local\\programs\\python\\python39\\lib\\site-packages (from rasa) (1.24.3)\n",
      "Requirement already satisfied: SQLAlchemy<1.5.0,>=1.4.0 in c:\\users\\u\\appdata\\local\\programs\\python\\python39\\lib\\site-packages (from rasa) (1.4.48)\n",
      "Requirement already satisfied: attrs<22.2,>=19.3 in c:\\users\\u\\appdata\\local\\programs\\python\\python39\\lib\\site-packages (from rasa) (22.1.0)\n",
      "Requirement already satisfied: colorclass<2.3,>=2.2 in c:\\users\\u\\appdata\\local\\programs\\python\\python39\\lib\\site-packages (from rasa) (2.2.2)\n",
      "Requirement already satisfied: pluggy<2.0.0,>=1.0.0 in c:\\users\\u\\appdata\\local\\programs\\python\\python39\\lib\\site-packages (from rasa) (1.0.0)\n",
      "Requirement already satisfied: sklearn-crfsuite<0.4,>=0.3 in c:\\users\\u\\appdata\\local\\programs\\python\\python39\\lib\\site-packages (from rasa) (0.3.6)\n",
      "Requirement already satisfied: PyJWT[crypto]<3.0.0,>=2.0.0 in c:\\users\\u\\appdata\\local\\programs\\python\\python39\\lib\\site-packages (from rasa) (2.7.0)\n",
      "Requirement already satisfied: python-dateutil<2.9,>=2.8 in c:\\users\\u\\appdata\\local\\programs\\python\\python39\\lib\\site-packages (from rasa) (2.8.2)\n",
      "Requirement already satisfied: pytz<2023.0,>=2019.1 in c:\\users\\u\\appdata\\local\\programs\\python\\python39\\lib\\site-packages (from rasa) (2022.7.1)\n",
      "Requirement already satisfied: fbmessenger<6.1.0,>=6.0.0 in c:\\users\\u\\appdata\\local\\programs\\python\\python39\\lib\\site-packages (from rasa) (6.0.0)\n",
      "Requirement already satisfied: python-engineio!=5.0.0,<6,>=4 in c:\\users\\u\\appdata\\local\\programs\\python\\python39\\lib\\site-packages (from rasa) (4.4.1)\n",
      "Requirement already satisfied: sanic-cors<2.1.0,>=2.0.0 in c:\\users\\u\\appdata\\local\\programs\\python\\python39\\lib\\site-packages (from rasa) (2.0.1)\n",
      "Requirement already satisfied: redis<5.0,>=4.5.3 in c:\\users\\u\\appdata\\local\\programs\\python\\python39\\lib\\site-packages (from rasa) (4.5.5)\n",
      "Requirement already satisfied: terminaltables<3.2.0,>=3.1.0 in c:\\users\\u\\appdata\\local\\programs\\python\\python39\\lib\\site-packages (from rasa) (3.1.10)\n",
      "Requirement already satisfied: google-auth<3 in c:\\users\\u\\appdata\\local\\programs\\python\\python39\\lib\\site-packages (from rasa) (2.17.3)\n",
      "Requirement already satisfied: packaging<21.0,>=20.0 in c:\\users\\u\\appdata\\local\\programs\\python\\python39\\lib\\site-packages (from rasa) (20.9)\n",
      "Requirement already satisfied: aiohttp!=3.7.4.post0,<3.9,>=3.6 in c:\\users\\u\\appdata\\local\\programs\\python\\python39\\lib\\site-packages (from rasa) (3.8.4)\n",
      "Requirement already satisfied: coloredlogs<16,>=10 in c:\\users\\u\\appdata\\local\\programs\\python\\python39\\lib\\site-packages (from rasa) (15.0.1)\n",
      "Requirement already satisfied: cloudpickle<2.3,>=1.2 in c:\\users\\u\\appdata\\local\\programs\\python\\python39\\lib\\site-packages (from rasa) (2.2.1)\n",
      "Requirement already satisfied: aiogram<2.26 in c:\\users\\u\\appdata\\local\\programs\\python\\python39\\lib\\site-packages (from rasa) (2.25.1)\n",
      "Requirement already satisfied: jsonpickle<3.1,>=1.3 in c:\\users\\u\\appdata\\local\\programs\\python\\python39\\lib\\site-packages (from rasa) (3.0.1)\n",
      "Requirement already satisfied: tensorflow_hub<0.13.0,>=0.12.0 in c:\\users\\u\\appdata\\local\\programs\\python\\python39\\lib\\site-packages (from rasa) (0.12.0)\n",
      "Requirement already satisfied: confluent-kafka<2.0.0,>=1.9.2 in c:\\users\\u\\appdata\\local\\programs\\python\\python39\\lib\\site-packages (from rasa) (1.9.2)\n",
      "Requirement already satisfied: apscheduler<3.10,>=3.6 in c:\\users\\u\\appdata\\local\\programs\\python\\python39\\lib\\site-packages (from rasa) (3.9.1.post1)\n",
      "Requirement already satisfied: dask==2022.10.2; python_version >= \"3.8\" and python_version < \"3.11\" in c:\\users\\u\\appdata\\local\\programs\\python\\python39\\lib\\site-packages (from rasa) (2022.10.2)\n",
      "Requirement already satisfied: randomname<0.2.0,>=0.1.5 in c:\\users\\u\\appdata\\local\\programs\\python\\python39\\lib\\site-packages (from rasa) (0.1.5)\n",
      "Requirement already satisfied: regex<2022.11,>=2020.6 in c:\\users\\u\\appdata\\local\\programs\\python\\python39\\lib\\site-packages (from rasa) (2022.10.31)\n",
      "Requirement already satisfied: sanic-routing<0.8.0,>=0.7.2 in c:\\users\\u\\appdata\\local\\programs\\python\\python39\\lib\\site-packages (from rasa) (0.7.2)\n",
      "Requirement already satisfied: setuptools>=41.0.0 in c:\\users\\u\\appdata\\local\\programs\\python\\python39\\lib\\site-packages (from rasa) (49.2.1)\n",
      "Requirement already satisfied: questionary<1.11.0,>=1.5.1 in c:\\users\\u\\appdata\\local\\programs\\python\\python39\\lib\\site-packages (from rasa) (1.10.0)\n",
      "Requirement already satisfied: boto3<2.0,>=1.12 in c:\\users\\u\\appdata\\local\\programs\\python\\python39\\lib\\site-packages (from rasa) (1.26.131)\n",
      "Requirement already satisfied: rasa-sdk<3.6.0,>=3.5.0 in c:\\users\\u\\appdata\\local\\programs\\python\\python39\\lib\\site-packages (from rasa) (3.5.1)\n",
      "Requirement already satisfied: protobuf<3.20,>=3.9.2 in c:\\users\\u\\appdata\\local\\programs\\python\\python39\\lib\\site-packages (from rasa) (3.19.6)\n",
      "Requirement already satisfied: tensorflow==2.11.0; sys_platform != \"darwin\" or platform_machine != \"arm64\" in c:\\users\\u\\appdata\\local\\programs\\python\\python39\\lib\\site-packages (from rasa) (2.11.0)\n",
      "Requirement already satisfied: twilio<7.15,>=6.26 in c:\\users\\u\\appdata\\local\\programs\\python\\python39\\lib\\site-packages (from rasa) (7.14.2)\n",
      "Requirement already satisfied: matplotlib<3.6,>=3.1 in c:\\users\\u\\appdata\\local\\programs\\python\\python39\\lib\\site-packages (from rasa) (3.5.3)\n",
      "Requirement already satisfied: ujson<6.0,>=1.35 in c:\\users\\u\\appdata\\local\\programs\\python\\python39\\lib\\site-packages (from rasa) (5.7.0)\n",
      "Requirement already satisfied: scipy<1.9.0,>=1.4.1; python_version >= \"3.8\" and python_version < \"3.11\" in c:\\users\\u\\appdata\\local\\programs\\python\\python39\\lib\\site-packages (from rasa) (1.8.1)\n",
      "Requirement already satisfied: tqdm<5.0,>=4.31 in c:\\users\\u\\appdata\\local\\programs\\python\\python39\\lib\\site-packages (from rasa) (4.65.0)\n",
      "Requirement already satisfied: pykwalify<1.9,>=1.7 in c:\\users\\u\\appdata\\local\\programs\\python\\python39\\lib\\site-packages (from rasa) (1.8.0)\n",
      "Requirement already satisfied: joblib<1.3.0,>=0.15.1 in c:\\users\\u\\appdata\\local\\programs\\python\\python39\\lib\\site-packages (from rasa) (1.2.0)\n",
      "Requirement already satisfied: mattermostwrapper<2.3,>=2.2 in c:\\users\\u\\appdata\\local\\programs\\python\\python39\\lib\\site-packages (from rasa) (2.2)\n",
      "Requirement already satisfied: scikit-learn<1.2,>=0.22; python_version >= \"3.8\" and python_version < \"3.11\" in c:\\users\\u\\appdata\\local\\programs\\python\\python39\\lib\\site-packages (from rasa) (1.1.3)\n",
      "Requirement already satisfied: aio-pika<8.2.4,>=6.7.1 in c:\\users\\u\\appdata\\local\\programs\\python\\python39\\lib\\site-packages (from rasa) (8.2.3)\n",
      "Requirement already satisfied: sentry-sdk<1.15.0,>=0.17.0 in c:\\users\\u\\appdata\\local\\programs\\python\\python39\\lib\\site-packages (from rasa) (1.14.0)\n",
      "Requirement already satisfied: colorama<0.5.0,>=0.4.4; sys_platform == \"win32\" in c:\\users\\u\\appdata\\local\\programs\\python\\python39\\lib\\site-packages (from rasa) (0.4.6)\n",
      "Requirement already satisfied: networkx<2.7,>=2.4 in c:\\users\\u\\appdata\\local\\programs\\python\\python39\\lib\\site-packages (from rasa) (2.6.3)\n",
      "Requirement already satisfied: rocketchat_API<1.29.0,>=0.6.31 in c:\\users\\u\\appdata\\local\\programs\\python\\python39\\lib\\site-packages (from rasa) (1.28.1)\n",
      "Requirement already satisfied: absl-py<1.4,>=0.9 in c:\\users\\u\\appdata\\local\\programs\\python\\python39\\lib\\site-packages (from rasa) (1.3.0)\n",
      "Requirement already satisfied: pydot<1.5,>=1.4 in c:\\users\\u\\appdata\\local\\programs\\python\\python39\\lib\\site-packages (from rasa) (1.4.2)\n",
      "Requirement already satisfied: typing-extensions<5.0.0,>=4.1.1 in c:\\users\\u\\appdata\\local\\programs\\python\\python39\\lib\\site-packages (from rasa) (4.5.0)\n",
      "Requirement already satisfied: psycopg2-binary<2.10.0,>=2.8.2 in c:\\users\\u\\appdata\\local\\programs\\python\\python39\\lib\\site-packages (from rasa) (2.9.6)\n",
      "Requirement already satisfied: requests<3.0,>=2.23 in c:\\users\\u\\appdata\\local\\programs\\python\\python39\\lib\\site-packages (from rasa) (2.30.0)\n",
      "Requirement already satisfied: sanic<21.13,>=21.12 in c:\\users\\u\\appdata\\local\\programs\\python\\python39\\lib\\site-packages (from rasa) (21.12.2)\n",
      "Requirement already satisfied: colorhash<1.3.0,>=1.0.2 in c:\\users\\u\\appdata\\local\\programs\\python\\python39\\lib\\site-packages (from rasa) (1.2.1)\n",
      "Requirement already satisfied: websockets<11.0,>=10.0 in c:\\users\\u\\appdata\\local\\programs\\python\\python39\\lib\\site-packages (from rasa) (10.4)\n",
      "Requirement already satisfied: slack-sdk<4.0.0,>=3.19.2 in c:\\users\\u\\appdata\\local\\programs\\python\\python39\\lib\\site-packages (from rasa) (3.21.3)\n",
      "Requirement already satisfied: ruamel.yaml<0.18.0,>=0.16.5 in c:\\users\\u\\appdata\\local\\programs\\python\\python39\\lib\\site-packages (from rasa) (0.17.26)\n",
      "Requirement already satisfied: tensorflow-addons<0.20,>=0.18 in c:\\users\\u\\appdata\\local\\programs\\python\\python39\\lib\\site-packages (from rasa) (0.19.0)\n",
      "Requirement already satisfied: python-socketio<6,>=4.4 in c:\\users\\u\\appdata\\local\\programs\\python\\python39\\lib\\site-packages (from rasa) (5.8.0)\n",
      "Requirement already satisfied: tarsafe<0.0.4,>=0.0.3 in c:\\users\\u\\appdata\\local\\programs\\python\\python39\\lib\\site-packages (from rasa) (0.0.3)\n",
      "Requirement already satisfied: CacheControl<0.13.0,>=0.12.9 in c:\\users\\u\\appdata\\local\\programs\\python\\python39\\lib\\site-packages (from rasa) (0.12.11)\n",
      "Requirement already satisfied: pymongo[srv,tls]<3.11,>=3.8 in c:\\users\\u\\appdata\\local\\programs\\python\\python39\\lib\\site-packages (from rasa) (3.10.1)\n",
      "Requirement already satisfied: tensorflow-intel==2.11.0; sys_platform == \"win32\" in c:\\users\\u\\appdata\\local\\programs\\python\\python39\\lib\\site-packages (from rasa) (2.11.0)\n",
      "Collecting prompt-toolkit<3.0.29,>=3.0\n",
      "  Using cached prompt_toolkit-3.0.28-py3-none-any.whl (380 kB)\n",
      "Requirement already satisfied: future in c:\\users\\u\\appdata\\local\\programs\\python\\python39\\lib\\site-packages (from webexteamssdk<1.7.0,>=1.1.1->rasa) (0.18.3)\n",
      "Requirement already satisfied: requests-toolbelt in c:\\users\\u\\appdata\\local\\programs\\python\\python39\\lib\\site-packages (from webexteamssdk<1.7.0,>=1.1.1->rasa) (1.0.0)\n",
      "Requirement already satisfied: pywin32>=226; platform_system == \"Windows\" in c:\\users\\u\\appdata\\local\\programs\\python\\python39\\lib\\site-packages (from portalocker<3.0.0,>=2.7.0->rasa) (306)\n",
      "Requirement already satisfied: pyrsistent!=0.17.0,!=0.17.1,!=0.17.2,>=0.14.0 in c:\\users\\u\\appdata\\local\\programs\\python\\python39\\lib\\site-packages (from jsonschema<4.18,>=3.2->rasa) (0.19.3)\n",
      "Requirement already satisfied: greenlet!=0.4.17; python_version >= \"3\" and (platform_machine == \"aarch64\" or (platform_machine == \"ppc64le\" or (platform_machine == \"x86_64\" or (platform_machine == \"amd64\" or (platform_machine == \"AMD64\" or (platform_machine == \"win32\" or platform_machine == \"WIN32\")))))) in c:\\users\\u\\appdata\\local\\programs\\python\\python39\\lib\\site-packages (from SQLAlchemy<1.5.0,>=1.4.0->rasa) (2.0.2)\n",
      "Requirement already satisfied: tabulate in c:\\users\\u\\appdata\\local\\programs\\python\\python39\\lib\\site-packages (from sklearn-crfsuite<0.4,>=0.3->rasa) (0.9.0)\n",
      "Requirement already satisfied: python-crfsuite>=0.8.3 in c:\\users\\u\\appdata\\local\\programs\\python\\python39\\lib\\site-packages (from sklearn-crfsuite<0.4,>=0.3->rasa) (0.9.9)\n",
      "Requirement already satisfied: six in c:\\users\\u\\appdata\\local\\programs\\python\\python39\\lib\\site-packages (from sklearn-crfsuite<0.4,>=0.3->rasa) (1.16.0)\n",
      "Requirement already satisfied: cryptography>=3.4.0; extra == \"crypto\" in c:\\users\\u\\appdata\\local\\programs\\python\\python39\\lib\\site-packages (from PyJWT[crypto]<3.0.0,>=2.0.0->rasa) (40.0.2)\n",
      "Requirement already satisfied: async-timeout>=4.0.2; python_full_version <= \"3.11.2\" in c:\\users\\u\\appdata\\local\\programs\\python\\python39\\lib\\site-packages (from redis<5.0,>=4.5.3->rasa) (4.0.2)\n",
      "Requirement already satisfied: rsa<5,>=3.1.4; python_version >= \"3.6\" in c:\\users\\u\\appdata\\local\\programs\\python\\python39\\lib\\site-packages (from google-auth<3->rasa) (4.9)\n",
      "Requirement already satisfied: cachetools<6.0,>=2.0.0 in c:\\users\\u\\appdata\\local\\programs\\python\\python39\\lib\\site-packages (from google-auth<3->rasa) (5.3.0)\n",
      "Requirement already satisfied: pyasn1-modules>=0.2.1 in c:\\users\\u\\appdata\\local\\programs\\python\\python39\\lib\\site-packages (from google-auth<3->rasa) (0.3.0)\n",
      "Requirement already satisfied: pyparsing>=2.0.2 in c:\\users\\u\\appdata\\local\\programs\\python\\python39\\lib\\site-packages (from packaging<21.0,>=20.0->rasa) (3.0.9)\n",
      "Requirement already satisfied: yarl<2.0,>=1.0 in c:\\users\\u\\appdata\\local\\programs\\python\\python39\\lib\\site-packages (from aiohttp!=3.7.4.post0,<3.9,>=3.6->rasa) (1.9.2)\n",
      "Requirement already satisfied: aiosignal>=1.1.2 in c:\\users\\u\\appdata\\local\\programs\\python\\python39\\lib\\site-packages (from aiohttp!=3.7.4.post0,<3.9,>=3.6->rasa) (1.3.1)\n",
      "Requirement already satisfied: charset-normalizer<4.0,>=2.0 in c:\\users\\u\\appdata\\local\\programs\\python\\python39\\lib\\site-packages (from aiohttp!=3.7.4.post0,<3.9,>=3.6->rasa) (3.1.0)\n",
      "Requirement already satisfied: multidict<7.0,>=4.5 in c:\\users\\u\\appdata\\local\\programs\\python\\python39\\lib\\site-packages (from aiohttp!=3.7.4.post0,<3.9,>=3.6->rasa) (5.2.0)\n",
      "Requirement already satisfied: frozenlist>=1.1.1 in c:\\users\\u\\appdata\\local\\programs\\python\\python39\\lib\\site-packages (from aiohttp!=3.7.4.post0,<3.9,>=3.6->rasa) (1.3.3)\n",
      "Requirement already satisfied: humanfriendly>=9.1 in c:\\users\\u\\appdata\\local\\programs\\python\\python39\\lib\\site-packages (from coloredlogs<16,>=10->rasa) (10.0)\n",
      "Requirement already satisfied: magic-filter>=1.0.9 in c:\\users\\u\\appdata\\local\\programs\\python\\python39\\lib\\site-packages (from aiogram<2.26->rasa) (1.0.9)\n",
      "Requirement already satisfied: certifi>=2021.10.8 in c:\\users\\u\\appdata\\local\\programs\\python\\python39\\lib\\site-packages (from aiogram<2.26->rasa) (2023.5.7)\n",
      "Requirement already satisfied: Babel<2.10.0,>=2.9.1 in c:\\users\\u\\appdata\\local\\programs\\python\\python39\\lib\\site-packages (from aiogram<2.26->rasa) (2.9.1)\n",
      "Requirement already satisfied: tzlocal!=3.*,>=2.0 in c:\\users\\u\\appdata\\local\\programs\\python\\python39\\lib\\site-packages (from apscheduler<3.10,>=3.6->rasa) (4.3)\n",
      "Requirement already satisfied: click>=7.0 in c:\\users\\u\\appdata\\local\\programs\\python\\python39\\lib\\site-packages (from dask==2022.10.2; python_version >= \"3.8\" and python_version < \"3.11\"->rasa) (8.1.3)\n",
      "Requirement already satisfied: toolz>=0.8.2 in c:\\users\\u\\appdata\\local\\programs\\python\\python39\\lib\\site-packages (from dask==2022.10.2; python_version >= \"3.8\" and python_version < \"3.11\"->rasa) (0.12.0)\n",
      "Requirement already satisfied: fsspec>=0.6.0 in c:\\users\\u\\appdata\\local\\programs\\python\\python39\\lib\\site-packages (from dask==2022.10.2; python_version >= \"3.8\" and python_version < \"3.11\"->rasa) (2023.5.0)\n",
      "Requirement already satisfied: partd>=0.3.10 in c:\\users\\u\\appdata\\local\\programs\\python\\python39\\lib\\site-packages (from dask==2022.10.2; python_version >= \"3.8\" and python_version < \"3.11\"->rasa) (1.4.0)\n",
      "Requirement already satisfied: pyyaml>=5.3.1 in c:\\users\\u\\appdata\\local\\programs\\python\\python39\\lib\\site-packages (from dask==2022.10.2; python_version >= \"3.8\" and python_version < \"3.11\"->rasa) (6.0)\n",
      "Requirement already satisfied: fire in c:\\users\\u\\appdata\\local\\programs\\python\\python39\\lib\\site-packages (from randomname<0.2.0,>=0.1.5->rasa) (0.5.0)\n",
      "Requirement already satisfied: s3transfer<0.7.0,>=0.6.0 in c:\\users\\u\\appdata\\local\\programs\\python\\python39\\lib\\site-packages (from boto3<2.0,>=1.12->rasa) (0.6.1)\n",
      "Requirement already satisfied: botocore<1.30.0,>=1.29.131 in c:\\users\\u\\appdata\\local\\programs\\python\\python39\\lib\\site-packages (from boto3<2.0,>=1.12->rasa) (1.29.131)\n",
      "Requirement already satisfied: jmespath<2.0.0,>=0.7.1 in c:\\users\\u\\appdata\\local\\programs\\python\\python39\\lib\\site-packages (from boto3<2.0,>=1.12->rasa) (1.0.1)\n",
      "Requirement already satisfied: cycler>=0.10 in c:\\users\\u\\appdata\\local\\programs\\python\\python39\\lib\\site-packages (from matplotlib<3.6,>=3.1->rasa) (0.11.0)\n",
      "Requirement already satisfied: fonttools>=4.22.0 in c:\\users\\u\\appdata\\local\\programs\\python\\python39\\lib\\site-packages (from matplotlib<3.6,>=3.1->rasa) (4.39.3)\n",
      "Requirement already satisfied: pillow>=6.2.0 in c:\\users\\u\\appdata\\local\\programs\\python\\python39\\lib\\site-packages (from matplotlib<3.6,>=3.1->rasa) (9.5.0)\n",
      "Requirement already satisfied: kiwisolver>=1.0.1 in c:\\users\\u\\appdata\\local\\programs\\python\\python39\\lib\\site-packages (from matplotlib<3.6,>=3.1->rasa) (1.4.4)\n",
      "Requirement already satisfied: docopt>=0.6.2 in c:\\users\\u\\appdata\\local\\programs\\python\\python39\\lib\\site-packages (from pykwalify<1.9,>=1.7->rasa) (0.6.2)\n",
      "Requirement already satisfied: threadpoolctl>=2.0.0 in c:\\users\\u\\appdata\\local\\programs\\python\\python39\\lib\\site-packages (from scikit-learn<1.2,>=0.22; python_version >= \"3.8\" and python_version < \"3.11\"->rasa) (3.1.0)\n",
      "Requirement already satisfied: aiormq~=6.4.0 in c:\\users\\u\\appdata\\local\\programs\\python\\python39\\lib\\site-packages (from aio-pika<8.2.4,>=6.7.1->rasa) (6.4.2)\n",
      "Requirement already satisfied: urllib3>=1.26.11; python_version >= \"3.6\" in c:\\users\\u\\appdata\\local\\programs\\python\\python39\\lib\\site-packages (from sentry-sdk<1.15.0,>=0.17.0->rasa) (2.0.2)\n",
      "Requirement already satisfied: idna<4,>=2.5 in c:\\users\\u\\appdata\\local\\programs\\python\\python39\\lib\\site-packages (from requests<3.0,>=2.23->rasa) (3.4)\n",
      "Requirement already satisfied: httptools>=0.0.10 in c:\\users\\u\\appdata\\local\\programs\\python\\python39\\lib\\site-packages (from sanic<21.13,>=21.12->rasa) (0.5.0)\n",
      "Requirement already satisfied: aiofiles>=0.6.0 in c:\\users\\u\\appdata\\local\\programs\\python\\python39\\lib\\site-packages (from sanic<21.13,>=21.12->rasa) (23.1.0)\n",
      "Requirement already satisfied: ruamel.yaml.clib>=0.2.7; platform_python_implementation == \"CPython\" and python_version < \"3.12\" in c:\\users\\u\\appdata\\local\\programs\\python\\python39\\lib\\site-packages (from ruamel.yaml<0.18.0,>=0.16.5->rasa) (0.2.7)\n",
      "Requirement already satisfied: typeguard>=2.7 in c:\\users\\u\\appdata\\local\\programs\\python\\python39\\lib\\site-packages (from tensorflow-addons<0.20,>=0.18->rasa) (3.0.2)\n",
      "Requirement already satisfied: bidict>=0.21.0 in c:\\users\\u\\appdata\\local\\programs\\python\\python39\\lib\\site-packages (from python-socketio<6,>=4.4->rasa) (0.22.1)\n",
      "Requirement already satisfied: msgpack>=0.5.2 in c:\\users\\u\\appdata\\local\\programs\\python\\python39\\lib\\site-packages (from CacheControl<0.13.0,>=0.12.9->rasa) (1.0.5)\n",
      "Requirement already satisfied: dnspython<2.0.0,>=1.16.0; extra == \"srv\" in c:\\users\\u\\appdata\\local\\programs\\python\\python39\\lib\\site-packages (from pymongo[srv,tls]<3.11,>=3.8->rasa) (1.16.0)\n",
      "Requirement already satisfied: termcolor>=1.1.0 in c:\\users\\u\\appdata\\local\\programs\\python\\python39\\lib\\site-packages (from tensorflow-intel==2.11.0; sys_platform == \"win32\"->rasa) (2.3.0)\n",
      "Requirement already satisfied: grpcio<2.0,>=1.24.3 in c:\\users\\u\\appdata\\local\\programs\\python\\python39\\lib\\site-packages (from tensorflow-intel==2.11.0; sys_platform == \"win32\"->rasa) (1.54.0)\n",
      "Requirement already satisfied: astunparse>=1.6.0 in c:\\users\\u\\appdata\\local\\programs\\python\\python39\\lib\\site-packages (from tensorflow-intel==2.11.0; sys_platform == \"win32\"->rasa) (1.6.3)\n",
      "Requirement already satisfied: wrapt>=1.11.0 in c:\\users\\u\\appdata\\local\\programs\\python\\python39\\lib\\site-packages (from tensorflow-intel==2.11.0; sys_platform == \"win32\"->rasa) (1.15.0)\n",
      "Requirement already satisfied: tensorflow-io-gcs-filesystem>=0.23.1; platform_machine != \"arm64\" or platform_system != \"Darwin\" in c:\\users\\u\\appdata\\local\\programs\\python\\python39\\lib\\site-packages (from tensorflow-intel==2.11.0; sys_platform == \"win32\"->rasa) (0.31.0)\n",
      "Requirement already satisfied: google-pasta>=0.1.1 in c:\\users\\u\\appdata\\local\\programs\\python\\python39\\lib\\site-packages (from tensorflow-intel==2.11.0; sys_platform == \"win32\"->rasa) (0.2.0)\n",
      "Requirement already satisfied: gast<=0.4.0,>=0.2.1 in c:\\users\\u\\appdata\\local\\programs\\python\\python39\\lib\\site-packages (from tensorflow-intel==2.11.0; sys_platform == \"win32\"->rasa) (0.4.0)\n",
      "Requirement already satisfied: libclang>=13.0.0 in c:\\users\\u\\appdata\\local\\programs\\python\\python39\\lib\\site-packages (from tensorflow-intel==2.11.0; sys_platform == \"win32\"->rasa) (16.0.0)\n",
      "Requirement already satisfied: keras<2.12,>=2.11.0 in c:\\users\\u\\appdata\\local\\programs\\python\\python39\\lib\\site-packages (from tensorflow-intel==2.11.0; sys_platform == \"win32\"->rasa) (2.11.0)\n",
      "Requirement already satisfied: opt-einsum>=2.3.2 in c:\\users\\u\\appdata\\local\\programs\\python\\python39\\lib\\site-packages (from tensorflow-intel==2.11.0; sys_platform == \"win32\"->rasa) (3.3.0)\n",
      "Requirement already satisfied: tensorflow-estimator<2.12,>=2.11.0 in c:\\users\\u\\appdata\\local\\programs\\python\\python39\\lib\\site-packages (from tensorflow-intel==2.11.0; sys_platform == \"win32\"->rasa) (2.11.0)\n",
      "Requirement already satisfied: flatbuffers>=2.0 in c:\\users\\u\\appdata\\local\\programs\\python\\python39\\lib\\site-packages (from tensorflow-intel==2.11.0; sys_platform == \"win32\"->rasa) (23.5.8)\n",
      "Requirement already satisfied: tensorboard<2.12,>=2.11 in c:\\users\\u\\appdata\\local\\programs\\python\\python39\\lib\\site-packages (from tensorflow-intel==2.11.0; sys_platform == \"win32\"->rasa) (2.11.2)\n",
      "Requirement already satisfied: h5py>=2.9.0 in c:\\users\\u\\appdata\\local\\programs\\python\\python39\\lib\\site-packages (from tensorflow-intel==2.11.0; sys_platform == \"win32\"->rasa) (3.8.0)\n",
      "Requirement already satisfied: wcwidth in c:\\users\\u\\appdata\\local\\programs\\python\\python39\\lib\\site-packages (from prompt-toolkit<3.0.29,>=3.0->rasa) (0.2.6)\n",
      "Requirement already satisfied: cffi>=1.12 in c:\\users\\u\\appdata\\local\\programs\\python\\python39\\lib\\site-packages (from cryptography>=3.4.0; extra == \"crypto\"->PyJWT[crypto]<3.0.0,>=2.0.0->rasa) (1.15.1)\n",
      "Requirement already satisfied: pyasn1>=0.1.3 in c:\\users\\u\\appdata\\local\\programs\\python\\python39\\lib\\site-packages (from rsa<5,>=3.1.4; python_version >= \"3.6\"->google-auth<3->rasa) (0.5.0)\n",
      "Requirement already satisfied: pyreadline3; sys_platform == \"win32\" and python_version >= \"3.8\" in c:\\users\\u\\appdata\\local\\programs\\python\\python39\\lib\\site-packages (from humanfriendly>=9.1->coloredlogs<16,>=10->rasa) (3.4.1)\n",
      "Requirement already satisfied: tzdata; platform_system == \"Windows\" in c:\\users\\u\\appdata\\local\\programs\\python\\python39\\lib\\site-packages (from tzlocal!=3.*,>=2.0->apscheduler<3.10,>=3.6->rasa) (2023.3)\n",
      "Requirement already satisfied: pytz-deprecation-shim in c:\\users\\u\\appdata\\local\\programs\\python\\python39\\lib\\site-packages (from tzlocal!=3.*,>=2.0->apscheduler<3.10,>=3.6->rasa) (0.1.0.post0)\n",
      "Requirement already satisfied: locket in c:\\users\\u\\appdata\\local\\programs\\python\\python39\\lib\\site-packages (from partd>=0.3.10->dask==2022.10.2; python_version >= \"3.8\" and python_version < \"3.11\"->rasa) (1.0.0)\n",
      "Requirement already satisfied: pamqp==3.2.1 in c:\\users\\u\\appdata\\local\\programs\\python\\python39\\lib\\site-packages (from aiormq~=6.4.0->aio-pika<8.2.4,>=6.7.1->rasa) (3.2.1)\n",
      "Requirement already satisfied: importlib-metadata>=3.6; python_version < \"3.10\" in c:\\users\\u\\appdata\\local\\programs\\python\\python39\\lib\\site-packages (from typeguard>=2.7->tensorflow-addons<0.20,>=0.18->rasa) (6.6.0)\n",
      "Requirement already satisfied: wheel<1.0,>=0.23.0 in c:\\users\\u\\appdata\\local\\programs\\python\\python39\\lib\\site-packages (from astunparse>=1.6.0->tensorflow-intel==2.11.0; sys_platform == \"win32\"->rasa) (0.40.0)\n",
      "Requirement already satisfied: tensorboard-plugin-wit>=1.6.0 in c:\\users\\u\\appdata\\local\\programs\\python\\python39\\lib\\site-packages (from tensorboard<2.12,>=2.11->tensorflow-intel==2.11.0; sys_platform == \"win32\"->rasa) (1.8.1)\n",
      "Requirement already satisfied: werkzeug>=1.0.1 in c:\\users\\u\\appdata\\local\\programs\\python\\python39\\lib\\site-packages (from tensorboard<2.12,>=2.11->tensorflow-intel==2.11.0; sys_platform == \"win32\"->rasa) (2.3.4)\n",
      "Requirement already satisfied: google-auth-oauthlib<0.5,>=0.4.1 in c:\\users\\u\\appdata\\local\\programs\\python\\python39\\lib\\site-packages (from tensorboard<2.12,>=2.11->tensorflow-intel==2.11.0; sys_platform == \"win32\"->rasa) (0.4.6)\n",
      "Requirement already satisfied: markdown>=2.6.8 in c:\\users\\u\\appdata\\local\\programs\\python\\python39\\lib\\site-packages (from tensorboard<2.12,>=2.11->tensorflow-intel==2.11.0; sys_platform == \"win32\"->rasa) (3.4.3)\n",
      "Requirement already satisfied: tensorboard-data-server<0.7.0,>=0.6.0 in c:\\users\\u\\appdata\\local\\programs\\python\\python39\\lib\\site-packages (from tensorboard<2.12,>=2.11->tensorflow-intel==2.11.0; sys_platform == \"win32\"->rasa) (0.6.1)\n",
      "Requirement already satisfied: pycparser in c:\\users\\u\\appdata\\local\\programs\\python\\python39\\lib\\site-packages (from cffi>=1.12->cryptography>=3.4.0; extra == \"crypto\"->PyJWT[crypto]<3.0.0,>=2.0.0->rasa) (2.21)\n",
      "Requirement already satisfied: zipp>=0.5 in c:\\users\\u\\appdata\\local\\programs\\python\\python39\\lib\\site-packages (from importlib-metadata>=3.6; python_version < \"3.10\"->typeguard>=2.7->tensorflow-addons<0.20,>=0.18->rasa) (3.15.0)\n",
      "Requirement already satisfied: MarkupSafe>=2.1.1 in c:\\users\\u\\appdata\\local\\programs\\python\\python39\\lib\\site-packages (from werkzeug>=1.0.1->tensorboard<2.12,>=2.11->tensorflow-intel==2.11.0; sys_platform == \"win32\"->rasa) (2.1.2)\n",
      "Requirement already satisfied: requests-oauthlib>=0.7.0 in c:\\users\\u\\appdata\\local\\programs\\python\\python39\\lib\\site-packages (from google-auth-oauthlib<0.5,>=0.4.1->tensorboard<2.12,>=2.11->tensorflow-intel==2.11.0; sys_platform == \"win32\"->rasa) (1.3.1)\n",
      "Requirement already satisfied: oauthlib>=3.0.0 in c:\\users\\u\\appdata\\local\\programs\\python\\python39\\lib\\site-packages (from requests-oauthlib>=0.7.0->google-auth-oauthlib<0.5,>=0.4.1->tensorboard<2.12,>=2.11->tensorflow-intel==2.11.0; sys_platform == \"win32\"->rasa) (3.2.2)\n",
      "Installing collected packages: prompt-toolkit\n",
      "  Attempting uninstall: prompt-toolkit\n",
      "    Found existing installation: prompt-toolkit 3.0.38\n",
      "    Uninstalling prompt-toolkit-3.0.38:\n",
      "      Successfully uninstalled prompt-toolkit-3.0.38\n",
      "Successfully installed prompt-toolkit-3.0.28\n",
      "Note: you may need to restart the kernel to use updated packages.\n"
     ]
    },
    {
     "name": "stderr",
     "output_type": "stream",
     "text": [
      "ERROR: After October 2020 you may experience errors when installing or updating packages. This is because pip will change the way that it resolves dependency conflicts.\n",
      "\n",
      "We recommend you use --use-feature=2020-resolver to test your packages with the new resolver before it becomes the default.\n",
      "\n",
      "ipython 8.13.2 requires prompt-toolkit!=3.0.37,<3.1.0,>=3.0.30, but you'll have prompt-toolkit 3.0.28 which is incompatible.\n",
      "WARNING: You are using pip version 20.2.3; however, version 23.1.2 is available.\n",
      "You should consider upgrading via the 'c:\\Users\\u\\AppData\\Local\\Programs\\Python\\Python39\\python.exe -m pip install --upgrade pip' command.\n"
     ]
    }
   ],
   "source": [
    "pip install rasa"
   ]
  },
  {
   "cell_type": "code",
   "execution_count": 21,
   "metadata": {},
   "outputs": [],
   "source": [
    "def create_connection(db_file):\n",
    "    \"\"\" create a database connection to the SQLite database\n",
    "        specified by the db_file\n",
    "    :param db_file: database file\n",
    "    :return: Connection object or None\n",
    "    \"\"\"\n",
    "    conn = None\n",
    "    try:\n",
    "        conn = sqlite3.connect(db_file)\n",
    "    except Error as e:\n",
    "        print(e)\n",
    "\n",
    "    return conn"
   ]
  },
  {
   "cell_type": "code",
   "execution_count": 22,
   "metadata": {},
   "outputs": [],
   "source": [
    "def select_by_slot(conn, slot_name, slot_value):\n",
    "    \"\"\"\n",
    "    Query all rows in the tasks table\n",
    "    :param conn: the Connection object\n",
    "    :return:\n",
    "    \"\"\"\n",
    "    cur = conn.cursor()\n",
    "    cur.execute(f\"\"\"SELECT * FROM ProductItem WHERE {slot_name} = '{slot_value}'\"\"\")\n",
    "\n",
    "    rows = cur.fetchall()\n",
    "\n",
    "    for row in rows:\n",
    "        print(row)\n",
    "    # if len(rows) > 0:\n",
    "    #     columns = [description[0] for description in cur.description]\n",
    "    #     table = PrettyTable(columns)\n",
    "    #     table.align = 'l'  # Align the table content to the left\n",
    "\n",
    "    #     for row in rows:\n",
    "    #         table.add_row(row)\n",
    "\n",
    "    #     print(table)\n",
    "    # else:\n",
    "    #     print(f\"There are no products with the {(slot_name).lower()} name \\'{slot_value}\\'\")"
   ]
  },
  {
   "cell_type": "code",
   "execution_count": null,
   "metadata": {},
   "outputs": [],
   "source": [
    "def select_by_slot(conn, slot_name, slot_value):\n",
    "        \"\"\"\n",
    "        Query all rows in the tasks table\n",
    "        :param conn: the Connection object\n",
    "        :return:\n",
    "        \"\"\"\n",
    "        cur = conn.cursor()\n",
    "        cur.execute(f\"\"\"SELECT * FROM ProductItem WHERE {slot_name} = '{slot_value}'\"\"\")\n",
    "\n",
    "        rows = cur.fetchall()\n",
    "\n",
    "        return rows"
   ]
  },
  {
   "cell_type": "code",
   "execution_count": null,
   "metadata": {},
   "outputs": [],
   "source": [
    "def rows_info_as_text(rows):\n",
    "        \"\"\"\n",
    "        Convert rows to a formatted string\n",
    "        :param rows: list of rows\n",
    "        :return: formatted string\n",
    "        \"\"\"\n",
    "        table = PrettyTable()\n",
    "        table.field_names = [\"Column 1\", \"Column 2\", \"Column 3\"]  # Customize column names as per your table structure\n",
    "\n",
    "        for row in rows:\n",
    "            table.add_row(row)\n",
    "\n",
    "        return table.get_string()"
   ]
  },
  {
   "cell_type": "code",
   "execution_count": 23,
   "metadata": {},
   "outputs": [],
   "source": [
    "connection = create_connection(\"..\\db\\database1.db\")"
   ]
  },
  {
   "cell_type": "code",
   "execution_count": 24,
   "metadata": {},
   "outputs": [
    {
     "name": "stdout",
     "output_type": "stream",
     "text": [
      "(1, 'Hair Shampoo', 'Dove')\n",
      "(2, 'Hair Conditioner', 'Dove')\n"
     ]
    }
   ],
   "source": [
    "select_by_slot(connection, slot_name = \"Brand\", slot_value = \"Dove\")"
   ]
  },
  {
   "cell_type": "code",
   "execution_count": 4,
   "metadata": {},
   "outputs": [],
   "source": [
    "conn = sqlite3.connect(\"C:\\\\Users\\\\u\\\\Desktop\\\\Intern 2023\\\\default\\\\db\\\\database1.db\")\n",
    "cursor = conn.cursor()"
   ]
  },
  {
   "cell_type": "code",
   "execution_count": 8,
   "metadata": {},
   "outputs": [],
   "source": [
    "select_query = \"SELECT * FROM ProductItem WHERE Brand = 'Dove'\"\n",
    "cursor.execute(select_query)\n",
    "rows = cursor.fetchall()"
   ]
  },
  {
   "cell_type": "code",
   "execution_count": 9,
   "metadata": {},
   "outputs": [],
   "source": [
    "if rows:\n",
    "    response = \"Results from the database:\\n\"\n",
    "    for row in rows:\n",
    "        response += f\"Column 1: {row[0]}, Column 2: {row[1]}\\n\"\n",
    "else:\n",
    "    response = \"No results found in the database.\"\n"
   ]
  },
  {
   "cell_type": "code",
   "execution_count": 10,
   "metadata": {},
   "outputs": [
    {
     "name": "stdout",
     "output_type": "stream",
     "text": [
      "Results from the database:\n",
      "Column 1: 1, Column 2: Hair Shampoo\n",
      "Column 1: 2, Column 2: Hair Conditioner\n",
      "\n"
     ]
    }
   ],
   "source": [
    "print(response)"
   ]
  },
  {
   "cell_type": "code",
   "execution_count": null,
   "metadata": {},
   "outputs": [],
   "source": []
  }
 ],
 "metadata": {
  "kernelspec": {
   "display_name": "Python 3",
   "language": "python",
   "name": "python3"
  },
  "language_info": {
   "codemirror_mode": {
    "name": "ipython",
    "version": 3
   },
   "file_extension": ".py",
   "mimetype": "text/x-python",
   "name": "python",
   "nbconvert_exporter": "python",
   "pygments_lexer": "ipython3",
   "version": "3.9.0"
  },
  "orig_nbformat": 4
 },
 "nbformat": 4,
 "nbformat_minor": 2
}
